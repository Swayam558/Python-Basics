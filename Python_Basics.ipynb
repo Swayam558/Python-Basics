{
  "nbformat": 4,
  "nbformat_minor": 0,
  "metadata": {
    "colab": {
      "provenance": []
    },
    "kernelspec": {
      "name": "python3",
      "display_name": "Python 3"
    },
    "language_info": {
      "name": "python"
    }
  },
  "cells": [
    {
      "cell_type": "markdown",
      "source": [
        "#PYTHON BASICS"
      ],
      "metadata": {
        "id": "2wLcF5f-_Ygw"
      }
    },
    {
      "cell_type": "markdown",
      "source": [
        "1.  What is Python, and why is it popular?\n",
        "    - Python is a simple and easy-to-understand programming language that is great for students and beginners. It uses a clean and readable format, which makes writing and learning code less confusing. Python is used in many areas like making websites, analyzing data, building apps, doing automation, and even creating artificial intelligence. It has a lot of ready-made tools called libraries, so students don’t have to start everything from scratch. Because it's used by both beginners and professionals, learning Python opens up many career opportunities. Its friendly nature and wide use make it one of the best languages to start learning programming.\n",
        "\n",
        "2.  What is an interpreter in Python?\n",
        "    - An interpreter in Python is a program that reads and executes Python code line by line. When you write a Python program and run it, the interpreter takes each line, translates it into machine code, and performs the action immediately. This makes Python easy to use, especially for beginners, because you can see the results of your code right away. It also helps in quickly identifying and fixing errors, as the program stops when it finds an issue. Python is called an interpreted language because it relies on an interpreter rather than a compiler to run its code.\n",
        "\n",
        "    - Python executes code one line at a time.\n",
        "\n",
        "    - t helps in faster testing and debugging.\n",
        "\n",
        "   - The default and most widely used interpreter is CPython.\n",
        "\n",
        "    - Interpreters make Python portable and easier to use across different platforms.\n",
        "\n",
        "    - It is useful for learning, scripting, and rapid development.\n",
        "\n",
        "3. What are pre-defined keywords in Python?\n",
        "  - Pre-defined keywords in Python are special words that are already reserved by the language for specific tasks or meanings. These keywords form the basic building blocks of Python syntax and cannot be used for naming variables, functions, or anything else. They are used to define actions like loops, conditions, functions, classes, and more. Since they have fixed meanings, using them wrongly in code will cause errors. Python has a fixed set of keywords, and you can see them using the keyword module.\n",
        "\n",
        "   - Pre-defined keywords are built-in words in Python\n",
        "\n",
        "   - They are used to write Python rules and commands\n",
        "\n",
        "   - You can’t use them as variable or function names\n",
        "\n",
        "   - They are already reserved by Python\n",
        "\n",
        "\n",
        "4. Can keywords be used as variable names?\n",
        "  - No, keywords cannot be used as variable names in Python. Keywords are special reserved words that Python uses to define its rules and structure, like if, while, for, class, and def. These words have specific meanings and roles in the language. If you try to use them as variable names, Python will not understand your code and will show a syntax error. That's why you should always avoid using keywords when naming variables and choose meaningful, unique names instead.\n",
        "\n",
        "   - Keywords have special meanings in Python\n",
        "\n",
        "   - They are used to write the rules and structure of programs\n",
        "\n",
        "   - Using them as variable names will cause an error\n",
        "\n",
        "   - Python gets confused if a keyword is used as a variable\n",
        "\n",
        "5. What is mutability in Python?\n",
        "  - Mutability in Python refers to whether or not the value of an object can be changed after it is created. If an object is mutable, it means you can modify its content without changing its identity (memory address). On the other hand, immutable objects cannot be changed once they are created—if you try to change them, a new object is created instead. Understanding mutability is important because it affects how variables behave, especially when passed into functions or stored in data structures.\n",
        "\n",
        "\n",
        "6. Why are lists mutable, but tuples are immutable?\n",
        "  - Lists are mutable in Python, which means their content can be changed after creation — you can add, remove, or modify elements. On the other hand, tuples are immutable, meaning once a tuple is created, its values cannot be changed. This difference is because of how Python is designed: lists are meant for collections that may need to change, while tuples are used for fixed, constant data. Immutability in tuples also helps improve performance and security, especially when used as keys in dictionaries or in functions where data should remain unchanged.\n",
        "\n",
        "   - Lists can be changed (add, remove, update items)\n",
        "\n",
        "   - Tuples cannot be changed after they’re created\n",
        "\n",
        "   - Lists are used when data may vary\n",
        "\n",
        "   - Tuples are used for constant, fixed data\n",
        "\n",
        "   - Tuples are faster and can be used as dictionary keys\n",
        "\n",
        "\n",
        "7. What is the difference between “==” and “is” operators in Python?\n",
        "  - In Python, both == and is are comparison operators, but they are used for different types of comparison. The == operator checks whether the values of two variables are equal, meaning the contents inside the objects are the same. On the other hand, the is operator checks whether the two variables point to the same memory location, i.e., they are actually the same object in memory.This distinction becomes important when dealing with mutable data types (like lists, dictionaries) and immutable types (like integers, strings, and tuples). For example, two different lists may have the same values, so == would return True, but since they are two separate objects in memory, is would return False. However, Python sometimes caches small integers and strings, so is might appear to return True for those, but that's due to memory optimization and not value comparison.\n",
        "\n",
        "\n",
        "8. What are logical operators in Python?\n",
        "  - Logical operators in Python are used to combine multiple conditions and return either True or False. They help control the flow of the program by making decisions based on whether conditions are true or false. Python provides three logical operators: and, or, and not, which are mainly used in conditional statements like if, while, and loops.\n",
        "\n",
        "   - and, or, and not are used to combine or reverse conditions.\n",
        "\n",
        "   - They return a Boolean value based on the truth of the expressions.\n",
        "  \n",
        "9. 8 What is type casting in Python?\n",
        "  - Type casting in Python is the process of converting a value from one data type to another. It is often used when you're working with mixed data types—such as strings and numbers—and need them to be in the same format for operations. For example, if you take user input using input(), it’s always a string by default, so if you want to perform calculations, you need to convert it into int or float.\n",
        "\n",
        "   - Python supports two types of type casting:\n",
        "\n",
        "     - Implicit Casting – Done automatically by Python when it safely converts a smaller data type into a larger one (e.g., int to float).\n",
        "\n",
        "     - Explicit Casting – Done manually by the programmer using functions like int(), float(), and str().\n",
        "\n",
        "     \n",
        " 10. What is the difference between implicit and explicit type casting?\n",
        "   - Type casting is the process of converting one data type into another in Python. It is mainly of two types: implicit and explicit.implicit type casting is done automatically by Python when it converts one data type into another without your help. This usually happens when there is no risk of losing data. For example, when you add an integer and a float, Python automatically converts the integer to a float.Explicit type casting is done manually by the programmer using built-in functions like int(), float(), or str(). This is used when you want to forcefully convert one type to another, especially when Python won’t do it automatically.\n",
        "\n",
        "11. What is the purpose of conditional statements in Python?\n",
        "  - Conditional statements in Python are used to make decisions in a program. They allow the code to take different actions based on whether a condition is True or False. This helps in controlling the flow of the program and making it respond differently to different situations. Python provides conditional statements like if, elif, and else to check conditions and run specific blocks of code. Without conditional statements, programs would always follow the same path, regardless of the data or situation.\n",
        "\n",
        "   - Conditional statements help the program make decisions based on conditions.\n",
        "\n",
        "   - They control the flow of execution using if, elif, and else blocks.\n",
        "\n",
        "\n",
        "12. How does the elif statement work?\n",
        "  - The elif statement in Python stands for \"else if\" and is used to check multiple conditions after an if statement. When the if condition is False, Python checks the elif condition. If it’s True, that block of code runs and the rest is skipped. You can use multiple elif blocks to test different conditions. If none of the if or elif conditions are True, you can add an optional else block to handle everything else.\n",
        "\n",
        "   - elif is used to check more than one condition after if.\n",
        "\n",
        "   - It runs only if the previous if (or elif) was False and its own condition  is True.\n",
        "\n",
        "13. What is the difference between for and while loops?\n",
        "  - Both for and while loops are used in Python to execute a block of code multiple times, but the way they work is different.A for loop is generally used when you know beforehand how many times the loop should run. It is commonly used to iterate over a sequence like a list, tuple, string, or a range of numbers. The loop continues automatically until it has gone through every item in the sequence.A while loop is used when you don’t know the number of repetitions in advance. It runs as long as a given condition is True. Once the condition becomes False, the loop stops. It gives more control when the number of iterations depends on user input, calculations, or other conditions.\n",
        "\n",
        "\n",
        "14. Describe a scenario where a while loop is more suitable than a for loop?\n",
        "  - A while loop is more suitable when you don’t know in advance how many times the loop should run, and the repetition depends on a changing condition. For example, if you're creating a program that asks the user to enter a password and keeps asking until the correct password is entered, you don’t know how many tries the user will take. In this case, a while loop is ideal because it will run as long as the condition (wrong password) is true and stop when the correct input is given.\n",
        "\n",
        "   - A while loop is better when the number of repetitions is not fixed.\n",
        "\n",
        "   - It is useful in user input, login systems, or game loops where the condition keeps changing.\n",
        "\n",
        "\n",
        "\n",
        "\n"
      ],
      "metadata": {
        "id": "_fRkN4jU_836"
      }
    },
    {
      "cell_type": "code",
      "source": [
        "# Write a Python program to print \"Hello, World!\"\n",
        "\n",
        "print(\"Hello, World!\")"
      ],
      "metadata": {
        "colab": {
          "base_uri": "https://localhost:8080/"
        },
        "id": "BxyBKGM06Z-7",
        "outputId": "cda0e838-3ca0-41b4-9d23-4d52f75c7cbf"
      },
      "execution_count": 1,
      "outputs": [
        {
          "output_type": "stream",
          "name": "stdout",
          "text": [
            "Hello, World!\n"
          ]
        }
      ]
    },
    {
      "cell_type": "code",
      "source": [
        "# Write a Python program that displays your name and age.\n",
        "\n",
        "name = \"Swayam\"\n",
        "age = 21\n",
        "\n",
        "print(\"My name is\", name)\n",
        "print(\"I am\", age, \"years old.\")"
      ],
      "metadata": {
        "colab": {
          "base_uri": "https://localhost:8080/"
        },
        "id": "3m5uPGAm6-M6",
        "outputId": "253c87fb-242f-46bc-d86c-7023029e766c"
      },
      "execution_count": 2,
      "outputs": [
        {
          "output_type": "stream",
          "name": "stdout",
          "text": [
            "My name is Swayam\n",
            "I am 21 years old.\n"
          ]
        }
      ]
    },
    {
      "cell_type": "code",
      "source": [
        "# Write code to print all the pre-defined keywords in Python using the keyword library.\n",
        "\n",
        "import keyword\n",
        "\n",
        "print(\"Python Keywords:\")\n",
        "print(keyword.kwlist)"
      ],
      "metadata": {
        "colab": {
          "base_uri": "https://localhost:8080/"
        },
        "id": "qa7-qAeP7O3N",
        "outputId": "167cb743-4999-45dd-c85e-f72ad4216010"
      },
      "execution_count": 3,
      "outputs": [
        {
          "output_type": "stream",
          "name": "stdout",
          "text": [
            "Python Keywords:\n",
            "['False', 'None', 'True', 'and', 'as', 'assert', 'async', 'await', 'break', 'class', 'continue', 'def', 'del', 'elif', 'else', 'except', 'finally', 'for', 'from', 'global', 'if', 'import', 'in', 'is', 'lambda', 'nonlocal', 'not', 'or', 'pass', 'raise', 'return', 'try', 'while', 'with', 'yield']\n"
          ]
        }
      ]
    },
    {
      "cell_type": "code",
      "source": [
        "# Write a program that checks if a given word is a Python keyword.\n",
        "\n",
        "import keyword\n",
        "\n",
        "# Get a word from the user\n",
        "word = input(\"Type any word: \")\n",
        "\n",
        "# Check if the word is one of Python's keywords\n",
        "if keyword.iskeyword(word):\n",
        "    print(f\"Yes, '{word}' is a Python keyword.\")\n",
        "else:\n",
        "    print(f\"No, '{word}' is not a Python keyword.\")"
      ],
      "metadata": {
        "colab": {
          "base_uri": "https://localhost:8080/"
        },
        "id": "qt2kSf3U7feq",
        "outputId": "cb26de3d-885a-4833-a13e-58a377e1472d"
      },
      "execution_count": 27,
      "outputs": [
        {
          "output_type": "stream",
          "name": "stdout",
          "text": [
            "Type any word: hello\n",
            "No, 'hello' is not a Python keyword.\n"
          ]
        }
      ]
    },
    {
      "cell_type": "code",
      "source": [
        "# Create a list and tuple in Python, and demonstrate how attempting to change an element works differently for each.\n",
        "\n",
        "\n",
        "my_list = [10, 20, 30]\n",
        "my_tuple = (10, 20, 30)\n",
        "\n",
        "\n",
        "my_list[1] = 200\n",
        "print(\"List after change:\", my_list)\n",
        "\n",
        "\n",
        "try:\n",
        "    my_tuple[1] = 200\n",
        "except TypeError:\n",
        "    print(\"Tuples cannot be changed. They are immutable.\")"
      ],
      "metadata": {
        "colab": {
          "base_uri": "https://localhost:8080/"
        },
        "id": "Qlk64Gtd82il",
        "outputId": "c00324a8-f5cf-4742-f895-4d4775c0a015"
      },
      "execution_count": 14,
      "outputs": [
        {
          "output_type": "stream",
          "name": "stdout",
          "text": [
            "List after change: [10, 200, 30]\n",
            "Tuples cannot be changed. They are immutable.\n"
          ]
        }
      ]
    },
    {
      "cell_type": "code",
      "source": [
        "#  Write a function to demonstrate the behavior of mutable and immutable arguments.\n",
        "\n",
        "def change(num, lst):\n",
        "    num += 1\n",
        "    lst.append(10)\n",
        "\n",
        "x = 5\n",
        "y = [1, 2]\n",
        "\n",
        "change(x, y)\n",
        "\n",
        "print(\"x:\", x)     # unchanged (immutable)\n",
        "print(\"y:\", y)     # changed (mutable)"
      ],
      "metadata": {
        "colab": {
          "base_uri": "https://localhost:8080/"
        },
        "id": "DhkB92Fi9zPL",
        "outputId": "a42c9c02-c8ef-44ce-ea62-877e9f762539"
      },
      "execution_count": 16,
      "outputs": [
        {
          "output_type": "stream",
          "name": "stdout",
          "text": [
            "x: 5\n",
            "y: [1, 2, 10]\n"
          ]
        }
      ]
    },
    {
      "cell_type": "code",
      "source": [
        "#  Write a program that performs basic arithmetic operations on two user-input numbers.\n",
        "\n",
        "a = int(input(\"Enter first number: \"))\n",
        "b = int(input(\"Enter second number: \"))\n",
        "\n",
        "print(\"Add:\", a + b)\n",
        "print(\"Subtract:\", a - b)\n",
        "print(\"Multiply:\", a * b)\n",
        "print(\"Divide:\", a / b)"
      ],
      "metadata": {
        "colab": {
          "base_uri": "https://localhost:8080/"
        },
        "id": "VFNKp9F1-Wjt",
        "outputId": "6d1d0142-34ad-46cf-ca83-c257f4b8718c"
      },
      "execution_count": 17,
      "outputs": [
        {
          "output_type": "stream",
          "name": "stdout",
          "text": [
            "Enter first number: 10\n",
            "Enter second number: 2\n",
            "Add: 12\n",
            "Subtract: 8\n",
            "Multiply: 20\n",
            "Divide: 5.0\n"
          ]
        }
      ]
    },
    {
      "cell_type": "code",
      "source": [
        "# Write a program to demonstrate the use of logical operators.\n",
        "\n",
        "a = 10\n",
        "b = 5\n",
        "\n",
        "# and operator\n",
        "print(a > 5 and b < 10)   # True\n",
        "\n",
        "# or operator\n",
        "print(a < 5 or b < 10)    # True\n",
        "\n",
        "# not operator\n",
        "print(not(a < 5))         # True"
      ],
      "metadata": {
        "colab": {
          "base_uri": "https://localhost:8080/"
        },
        "id": "idKEkV1V-uXR",
        "outputId": "27da2368-5690-48a9-f449-54656af7fce1"
      },
      "execution_count": 18,
      "outputs": [
        {
          "output_type": "stream",
          "name": "stdout",
          "text": [
            "True\n",
            "True\n",
            "True\n"
          ]
        }
      ]
    },
    {
      "cell_type": "code",
      "source": [
        "#  Write a Python program to convert user input from string to integer, float, and boolean types.\n",
        "\n",
        "value = input(\"Enter any value: \")\n",
        "\n",
        "int_value = int(value)\n",
        "\n",
        "float_value = float(value)\n",
        "\n",
        "bool_value = bool(value)\n",
        "\n",
        "print(\"As integer:\", int_value)\n",
        "print(\"As float:\", float_value)\n",
        "print(\"As boolean:\", bool_value)"
      ],
      "metadata": {
        "colab": {
          "base_uri": "https://localhost:8080/"
        },
        "id": "Z-ZVTiYb_FIh",
        "outputId": "ebb892bc-909f-452b-f4a0-4e2dc601017b"
      },
      "execution_count": 19,
      "outputs": [
        {
          "output_type": "stream",
          "name": "stdout",
          "text": [
            "Enter any value: 5\n",
            "As integer: 5\n",
            "As float: 5.0\n",
            "As boolean: True\n"
          ]
        }
      ]
    },
    {
      "cell_type": "code",
      "source": [
        "# Write code to demonstrate type casting with list elements.\n",
        "\n",
        "str_list = [\"1\", \"2\", \"3\", \"4\"]\n",
        "\n",
        "int_list = [int(i) for i in str_list]\n",
        "\n",
        "print(\"Original list (strings):\", str_list)\n",
        "print(\"Converted list (integers):\", int_list)"
      ],
      "metadata": {
        "colab": {
          "base_uri": "https://localhost:8080/"
        },
        "id": "Cbc_Dq5T_Yi5",
        "outputId": "b6515d94-0824-49b9-928d-888243bd6926"
      },
      "execution_count": 20,
      "outputs": [
        {
          "output_type": "stream",
          "name": "stdout",
          "text": [
            "Original list (strings): ['1', '2', '3', '4']\n",
            "Converted list (integers): [1, 2, 3, 4]\n"
          ]
        }
      ]
    },
    {
      "cell_type": "code",
      "source": [
        "# Write a program that checks if a number is positive, negative, or zero.\n",
        "\n",
        "num = float(input(\"Enter a number: \"))\n",
        "\n",
        "if num > 0:\n",
        "    print(\"The number is positive.\")\n",
        "elif num < 0:\n",
        "    print(\"The number is negative.\")\n",
        "else:\n",
        "    print(\"The number is zero.\")"
      ],
      "metadata": {
        "colab": {
          "base_uri": "https://localhost:8080/"
        },
        "id": "xXp7y368_mCm",
        "outputId": "9c46803e-48cf-4caa-b144-06eb1654fd0e"
      },
      "execution_count": 21,
      "outputs": [
        {
          "output_type": "stream",
          "name": "stdout",
          "text": [
            "Enter a number: -5\n",
            "The number is negative.\n"
          ]
        }
      ]
    },
    {
      "cell_type": "code",
      "source": [
        "# Write a for loop to print numbers from 1 to 10.\n",
        "\n",
        "for i in range(1, 11):\n",
        "    print(i)"
      ],
      "metadata": {
        "colab": {
          "base_uri": "https://localhost:8080/"
        },
        "id": "6A1UIt3I_zGl",
        "outputId": "4b96d7cb-441c-4de2-8865-a42154ade403"
      },
      "execution_count": 22,
      "outputs": [
        {
          "output_type": "stream",
          "name": "stdout",
          "text": [
            "1\n",
            "2\n",
            "3\n",
            "4\n",
            "5\n",
            "6\n",
            "7\n",
            "8\n",
            "9\n",
            "10\n"
          ]
        }
      ]
    },
    {
      "cell_type": "code",
      "source": [
        "#  Write a Python program to find the sum of all even numbers between 1 and 50.\n",
        "\n",
        "total = 0\n",
        "\n",
        "for i in range(1, 51):\n",
        "    if i % 2 == 0:\n",
        "        total += i\n",
        "\n",
        "print(\"Sum of even numbers from 1 to 50 is:\", total)"
      ],
      "metadata": {
        "colab": {
          "base_uri": "https://localhost:8080/"
        },
        "id": "77wAt9I8__hb",
        "outputId": "5f75a145-148b-4f5c-f520-da4e80e687f8"
      },
      "execution_count": 24,
      "outputs": [
        {
          "output_type": "stream",
          "name": "stdout",
          "text": [
            "Sum of even numbers from 1 to 50 is: 650\n"
          ]
        }
      ]
    },
    {
      "cell_type": "code",
      "source": [
        "#  Write a program to reverse a string using a while loop.\n",
        "\n",
        "text = input(\"Enter a string: \")\n",
        "reversed_text = \"\"\n",
        "index = len(text) - 1\n",
        "\n",
        "while index >= 0:\n",
        "    reversed_text += text[index]\n",
        "    index -= 1\n",
        "\n",
        "print(\"Reversed string:\", reversed_text)"
      ],
      "metadata": {
        "colab": {
          "base_uri": "https://localhost:8080/"
        },
        "id": "vh7WCBtuAQOd",
        "outputId": "9e41e26d-5fa6-4d74-c57b-4a3d8393a0a5"
      },
      "execution_count": 25,
      "outputs": [
        {
          "output_type": "stream",
          "name": "stdout",
          "text": [
            "Enter a string: swayam\n",
            "Reversed string: mayaws\n"
          ]
        }
      ]
    },
    {
      "cell_type": "code",
      "source": [
        "#  Write a Python program to calculate the factorial of a number provided by the user using a while loop.\n",
        "\n",
        "num = int(input(\"Enter a number: \"))\n",
        "factorial = 1\n",
        "i = 1\n",
        "\n",
        "while i <= num:\n",
        "    factorial *= i\n",
        "    i += 1\n",
        "\n",
        "print(\"Factorial of\", num, \"is\", factorial)"
      ],
      "metadata": {
        "colab": {
          "base_uri": "https://localhost:8080/"
        },
        "id": "KtHkapreAffd",
        "outputId": "91b44bce-e2ec-4c98-b9df-90792035bdef"
      },
      "execution_count": 26,
      "outputs": [
        {
          "output_type": "stream",
          "name": "stdout",
          "text": [
            "Enter a number: 5\n",
            "Factorial of 5 is 120\n"
          ]
        }
      ]
    }
  ]
}